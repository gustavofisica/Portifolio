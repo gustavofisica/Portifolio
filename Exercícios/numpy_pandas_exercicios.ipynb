{
 "cells": [
  {
   "cell_type": "markdown",
   "metadata": {},
   "source": [
    "# Guia Prático e Educativo de NumPy e Pandas\n",
    "\n",
    "## Propósito do Notebook\n",
    "Este notebook serve como um recurso educativo completo para aprender e aplicar as funcionalidades das bibliotecas NumPy e Pandas, além de funcionar como uma nota de memória prática para consulta rápida dos recursos e técnicas mais importantes dessas ferramentas essenciais em análise de dados e ciência de dados.\n",
    "\n",
    "## Objetivos\n",
    "- **Consolidação de Conhecimento**: Consolidar e aprofundar o entendimento sobre operações fundamentais e avançadas em NumPy e Pandas.\n",
    "- **Referência Rápida**: Servir como uma referência rápida para funções e métodos comuns, facilitando a revisão e o uso diário.\n",
    "- **Aplicações Práticas**: Demonstração de aplicação prática das técnicas em cenários reais como IoT, educação e ciências experimentais.\n",
    "- **Visualização e Análise Estatística**: Utilizar ferramentas de visualização e análise estatística para interpretar e apresentar dados de forma eficaz.\n",
    "\n",
    "## Estrutura do Notebook\n",
    "Este notebook está organizado em várias seções, cada uma dedicada a diferentes aspectos e funcionalidades de NumPy e Pandas:\n",
    "\n",
    "1. **Básicos de NumPy**:\n",
    "   - Criação e manipulação de arrays.\n",
    "   - Operações básicas: aritmética, lógica e funções agregadas.\n",
    "2. **Básicos de Pandas**:\n",
    "   - Criação e manipulação de DataFrames e Series.\n",
    "   - Importação e exportação de dados.\n",
    "3. **Visualização de Dados**:\n",
    "   - Introdução ao uso de Matplotlib e Seaborn para criar gráficos a partir de dados NumPy e Pandas.\n",
    "4. **Funcionalidades Avançadas**:\n",
    "   - Manipulação avançada de DataFrames.\n",
    "   - Técnicas de limpeza e preparação de dados.\n",
    "5. **Exercícios Aplicados**:\n",
    "   - Exercícios práticos que simulam cenários reais em áreas como IoT e análise educacional.\n",
    "6. **Recursos e Documentação**:\n",
    "   - Links para documentação oficial, tutoriais adicionais e recursos de aprendizagem.\n",
    "\n",
    "## Como Usar Este Notebook\n",
    "- **Como Referência**: Consulte as seções específicas para revisar conceitos ou comandos quando necessário.\n",
    "- **Como Guia de Aprendizado**: Siga os exercícios e explorações passo a passo para construir um entendimento profundo das capacidades das bibliotecas.\n",
    "- **Como Recurso para Projetos**: Utilize os exemplos e técnicas como base para seus próprios projetos de dados ou como inspiração para novas análises.\n",
    "\n",
    "Este guia é uma ferramenta dinâmica e será atualizado regularmente com novos exemplos, exercícios e melhores práticas para refletir avanços nas bibliotecas e nas necessidades dos usuários.\n"
   ]
  },
  {
   "cell_type": "code",
   "execution_count": 1,
   "metadata": {},
   "outputs": [
    {
     "name": "stdout",
     "output_type": "stream",
     "text": [
      "Looking in indexes: https://pypi.tuna.tsinghua.edu.cn/simple/\n",
      "Requirement already satisfied: numpy in g:\\meu drive\\documentos\\gustavo\\portifólio\\.venv\\lib\\site-packages (1.26.4)\n",
      "Requirement already satisfied: pandas in g:\\meu drive\\documentos\\gustavo\\portifólio\\.venv\\lib\\site-packages (2.2.2)\n",
      "Requirement already satisfied: python-dateutil>=2.8.2 in g:\\meu drive\\documentos\\gustavo\\portifólio\\.venv\\lib\\site-packages (from pandas) (2.9.0.post0)\n",
      "Requirement already satisfied: pytz>=2020.1 in g:\\meu drive\\documentos\\gustavo\\portifólio\\.venv\\lib\\site-packages (from pandas) (2024.1)\n",
      "Requirement already satisfied: tzdata>=2022.7 in g:\\meu drive\\documentos\\gustavo\\portifólio\\.venv\\lib\\site-packages (from pandas) (2024.1)\n",
      "Requirement already satisfied: six>=1.5 in g:\\meu drive\\documentos\\gustavo\\portifólio\\.venv\\lib\\site-packages (from python-dateutil>=2.8.2->pandas) (1.16.0)\n",
      "Note: you may need to restart the kernel to use updated packages.\n"
     ]
    }
   ],
   "source": [
    "%pip install numpy pandas"
   ]
  },
  {
   "cell_type": "code",
   "execution_count": 39,
   "metadata": {},
   "outputs": [],
   "source": [
    "import numpy as np\n",
    "import pandas as pd\n",
    "from datetime import datetime\n",
    "import matplotlib.pyplot as plt"
   ]
  },
  {
   "cell_type": "markdown",
   "metadata": {},
   "source": [
    "# Introdução ao NumPy\n",
    "\n",
    "A documentação básica do NumPy, que você pode conferir em [aqui](https://numpy.org/devdocs/user/quickstart.html), esclarece que o NumPy foi desenvolvido para trabalhar com matrizes n-dimensionais homogêneas, ou seja, com dados do mesmo tipo.\n",
    "\n",
    "Antes de entrar nos maiores detalhes sobre como essa biblioteca funciona, vamos aos tipos básicos de dados que o Python possui:"
   ]
  },
  {
   "cell_type": "code",
   "execution_count": 51,
   "metadata": {},
   "outputs": [],
   "source": [
    "# Números\n",
    "inteiro = 1             # Representam números inteiros, positivos ou negativos, sem parte fracionária.\n",
    "flutuante = 3.14        # Representam números reais e podem incluir uma parte decimal.\n",
    "complexo = 2 + 5j      # Usados para representar números complexos, são escritos como a + bj, onde a e b são floats.\n",
    "\n",
    "# Sequências\n",
    "nome = \"gustavo\"                        # Sequências de caracteres Unicode usadas para armazenar dados textuais.\n",
    "lista = [1, 2, 3, 4, \"texto\", True]     # Coleções ordenadas e mutáveis de itens que podem ser de tipos diferentes.\n",
    "tupla = (1, 2, 3, \"olá\", False)         # Coleções ordenadas e imutáveis de itens que podem ser de diferentes tipos.\n",
    "\n",
    "# Mapeamentos\n",
    "dicionario = {\"nome\": \"Gustavo\", \"idade\": 37, \"cidade\": \"Curitiba\"} # Estruturas de dados que armazenam pares de chave-valor, onde as chaves são únicas dentro de um dicionário.\n",
    "\n",
    "# Conjuntos\n",
    "conjunto = {1, 2, 3, 4, 5}                          # Coleções não ordenadas de elementos únicos. São mutáveis e úteis para operações de conjunto como união, interseção, etc.\n",
    "conjunto_imutavel = frozenset([1, 2, 3, 4, 5])      # Versão imutável de conjuntos, que pode ser usada como chave em dicionários.\n",
    "\n",
    "# Booleano\n",
    "a = True\n",
    "b = False   # Pode ter dois valores: True ou False, que são frequentemente o resultado de comparações ou condições.\n",
    "\n",
    "# None Type\n",
    "nada = None # Usado para representar a ausência de valor. É útil para indicar que uma variável não foi definida a um valor específico ainda.\n",
    "\n",
    "# Bytes e Arrays de Bytes\n",
    "dados_binarios = b'Algum texto em bytes'            # Sequência imutável de bytes, geralmente usados para dados binários.\n",
    "array_de_bytes = bytearray([50, 100, 76, 72, 90])   # Versão mutável de bytes."
   ]
  },
  {
   "cell_type": "markdown",
   "metadata": {},
   "source": [
    "Vamos explorar algumas das operações mais básicas que podemos realizar com os diferentes tipos de dados disponíveis em Python. Este exercício é fundamental para entender como manipular dados e executar operações elementares que formam a base de tarefas mais complexas em programação e análise de dados.\n",
    "\n",
    "Cada tipo de dado tem suas próprias características e métodos de manipulação associados. Vamos abordar:\n",
    "\n",
    "- **Números**: Operações aritméticas como adição, multiplicação e acesso a propriedades de números complexos.\n",
    "- **Sequências**: Indexação e slicing em strings, listas e tuplas.\n",
    "- **Mapeamentos**: Manipulação de dicionários, incluindo acesso e modificação de elementos.\n",
    "- **Conjuntos**: Adição e remoção de elementos, demonstrando as propriedades únicas de conjuntos em Python.\n",
    "- **Booleanos**: Demonstração de operações lógicas básicas.\n",
    "- **None Type**: Exploração do tipo `None`, usado frequentemente para representar a ausência de valor.\n",
    "\n",
    "As operações com estes tipos de dados são cruciais para qualquer tipo de programação em Python, especialmente em campos que dependem fortemente do processamento de dados, como ciência de dados, machine learning, desenvolvimento web e automação.\n",
    "\n",
    "Vamos começar explorando cada um destes tipos com exemplos práticos.\n"
   ]
  },
  {
   "cell_type": "code",
   "execution_count": 28,
   "metadata": {},
   "outputs": [
    {
     "name": "stdout",
     "output_type": "stream",
     "text": [
      "soma da variável inteiro com outro valor inteiro: 2\n",
      "subtração da variável inteiro com a variável flutuante: -2.14\n",
      "multiplicação de flutuantes: 4.867\n",
      "divisão do número inteiro: 0.5\n",
      "parte real do número complexo: 2.0\n",
      "parte imaginária do número complexo: 5.0\n"
     ]
    }
   ],
   "source": [
    "# Operações numéricas\n",
    "print(f'soma da variável inteiro com outro valor inteiro: {inteiro + 1}')\n",
    "print(f'subtração da variável inteiro com a variável flutuante: {inteiro - flutuante}')\n",
    "print(f'multiplicação de flutuantes: {flutuante * 1.55}')\n",
    "print(f'divisão do número inteiro: {inteiro / 2}')\n",
    "print(f'parte real do número complexo: {complexo.real}')\n",
    "print(f'parte imaginária do número complexo: {complexo.imag}')"
   ]
  },
  {
   "cell_type": "code",
   "execution_count": 50,
   "metadata": {},
   "outputs": [
    {
     "name": "stdout",
     "output_type": "stream",
     "text": [
      "acessando o primeiro caractere da string: g\n",
      "acessando o último item da lista: novo item\n",
      "acessando o segundo item da tupla: modificado\n",
      "cortar a string: ust\n",
      "cortar a lista: ['modificado', 3, 4]\n",
      "cortar a tupla: (1, 2, 3, 'olá')\n",
      "concatenar strings gustavo é um ótimo aluno\n",
      "repetir uma string x vezes: gustavogustavo\n",
      "concatenar listas [1, 'modificado', 3, 4, 'texto', True, 'novo item', 5, 6, 'outro texto', False]\n",
      "repetir listas [1, 'modificado', 3, 4, 'texto', True, 'novo item', 1, 'modificado', 3, 4, 'texto', True, 'novo item']\n",
      "lista original: [1, 'modificado', 3, 4, 'texto', True, 'novo item']\n",
      "modificando a lista: None\n",
      "modificando o segundo elemento da lista: [1, 'modificado', 3, 4, 'texto', True, 'novo item', 'novo item']\n",
      "capitalização da string: Gustavo\n",
      "todas as letras da string em maiúsculas: GUSTAVO\n",
      "contando \"a\" na string: 1\n"
     ]
    }
   ],
   "source": [
    "# Operações com sequências\n",
    "print(f'acessando o primeiro caractere da string: {nome[0]}')\n",
    "print(f'acessando o último item da lista: {lista[-1]}')\n",
    "print(f'acessando o segundo item da tupla: {lista[1]}')\n",
    "print(f'cortar a string: {nome[1:4]}')\n",
    "print(f'cortar a lista: {lista[1:4]}')\n",
    "print(f'cortar a tupla: {tupla[:4]}')\n",
    "print(f'concatenar strings {nome + \" é um ótimo aluno\"}')\n",
    "print(f'repetir uma string x vezes: {nome * 2}')\n",
    "print(f'concatenar listas {lista + [5, 6, \"outro texto\", False]}')\n",
    "print(f'repetir listas {lista * 2}')\n",
    "\n",
    "print(f'lista original: {lista}')\n",
    "print(f'modificando a lista: {lista.append(\"novo item\")}')\n",
    "lista[1] = \"modificado\"\n",
    "print(f'modificando o segundo elemento da lista: {lista}')\n",
    "\n",
    "print(f'capitalização da string: {nome.capitalize()}')\n",
    "print(f'todas as letras da string em maiúsculas: {nome.upper()}')\n",
    "print(f'contando \"a\" na string: {nome.count('a')}')"
   ]
  },
  {
   "cell_type": "code",
   "execution_count": 37,
   "metadata": {},
   "outputs": [
    {
     "name": "stdout",
     "output_type": "stream",
     "text": [
      "dicionário original: {'nome': 'Gustavo', 'idade': 37, 'cidade': 'Curitiba'}\n",
      "acessando o nome no dicionário: Gustavo\n",
      "idade: \"37\n",
      "dicionário com o país adicionado: {'nome': 'Gustavo', 'idade': 37, 'cidade': 'Curitiba', 'país': 'Brasil'}\n",
      "dicionário após remover idade: {'nome': 'Gustavo', 'cidade': 'Curitiba', 'país': 'Brasil'}\n",
      "acessando as chaves do dicionário: dict_keys(['nome', 'cidade', 'país'])\n",
      "acessando os valores do dicionário: dict_values(['Gustavo', 'Curitiba', 'Brasil'])\n"
     ]
    }
   ],
   "source": [
    "# Operações com mapeamentos\n",
    "print(f'dicionário original: {dicionario}')\n",
    "print(f'acessando o nome no dicionário: {dicionario[\"nome\"]}')\n",
    "print(f'idade: \"{dicionario.get(\"idade\")}')\n",
    "dicionario[\"país\"] = \"Brasil\"\n",
    "print(f'dicionário com o país adicionado: {dicionario}')\n",
    "del dicionario[\"idade\"]\n",
    "print(f'dicionário após remover idade: {dicionario}')\n",
    "print(f'acessando as chaves do dicionário: {dicionario.keys()}')\n",
    "print(f'acessando os valores do dicionário: {dicionario.values()}')"
   ]
  },
  {
   "cell_type": "code",
   "execution_count": 52,
   "metadata": {},
   "outputs": [
    {
     "name": "stdout",
     "output_type": "stream",
     "text": [
      "conjunto original: {1, 2, 3, 4, 5}\n",
      "conjunto após adição: {1, 2, 3, 4, 5, 6}\n",
      "conjunto após remoção: {1, 3, 4, 5, 6}\n",
      "união dos conjuntos: {1, 3, 4, 5, 6, 7, 8}\n",
      "interseção  dos conjuntos: {4, 5, 6}\n",
      "diferença dos conjuntos: {1, 3}\n",
      "conjunto é subconjunto de outro_conjunto? False\n",
      "conjunto é superconjunto de outro_conjunto? False\n"
     ]
    }
   ],
   "source": [
    "# Operações com conjuntos\n",
    "outro_conjunto = {4, 5, 6, 7, 8}\n",
    "print(f'conjunto original: {conjunto}')\n",
    "conjunto.add(6)\n",
    "print(f'conjunto após adição: {conjunto}')\n",
    "conjunto.remove(2)\n",
    "print(f'conjunto após remoção: {conjunto}')\n",
    "uniao = conjunto.union(outro_conjunto)\n",
    "print(f'união dos conjuntos: {uniao}')\n",
    "intersecao  = conjunto.intersection(outro_conjunto)\n",
    "print(f'interseção  dos conjuntos: {intersecao }')\n",
    "diferenca = conjunto.difference(outro_conjunto)\n",
    "print(f'diferença dos conjuntos: {diferenca}')\n",
    "print(f'conjunto é subconjunto de outro_conjunto? {conjunto.issubset(outro_conjunto)}')\n",
    "print(f'conjunto é superconjunto de outro_conjunto? {conjunto.issuperset(outro_conjunto)}')"
   ]
  },
  {
   "cell_type": "code",
   "execution_count": 53,
   "metadata": {},
   "outputs": [
    {
     "name": "stdout",
     "output_type": "stream",
     "text": [
      "operador AND: False\n",
      "operador OR: True\n",
      "operador NOT: False\n"
     ]
    }
   ],
   "source": [
    "# Operações booleanas\n",
    "print(f'operador AND: {True and False}')\n",
    "print(f'operador OR: {True or False}')\n",
    "print(f'operador NOT: {not True}')"
   ]
  },
  {
   "cell_type": "markdown",
   "metadata": {},
   "source": [
    "Apesar da diversidade de tipos de dados disponíveis em Python, como listas, tuplas e dicionários, nenhum deles oferece suporte nativo para operações matriciais avançadas. Esses tipos são excelentes para manipulação de dados genéricos, mas não são otimizados para cálculos numéricos intensivos, que são essenciais em campos como ciência de dados, engenharia e análise financeira.\n",
    "\n",
    "É aqui que o NumPy se destaca. Esta biblioteca foi projetada especificamente para suprir essa lacuna, introduzindo um tipo de dado array que suporta operações matriciais e numéricas eficientes e diretas. Com NumPy, os usuários ganham uma liberdade ímpar para executar uma variedade de operações matemáticas, que vão desde simples adições até complexas transformações lineares, sem a necessidade de recorrer a loops explícitos ou outras estruturas de código menos eficientes. NumPy não só facilita a escrita de código mais limpo e mais rápido, mas também amplia significativamente as capacidades do Python em aplicações científicas e técnicas.\n",
    "\n",
    "A seguir, exploraremos como o NumPy permite a criação e manipulação de matrizes, e como você pode utilizar essas capacidades para realizar cálculos numéricos complexos de forma eficiente.\n"
   ]
  },
  {
   "cell_type": "markdown",
   "metadata": {},
   "source": [
    "## Operações com Temperaturas\n",
    "\n",
    "Imagine a seguinte situação:\n",
    "Gustavo, conectou seu Arduino Uno R3 e seu Módulo DHT11 da seguinte forma:\n",
    "\n",
    "<img src=\"../Imagens/Detector%20Clima.png\" alt=\"Detector do Clima\" width=\"500\"/>\n",
    "\n",
    "Dessa forma, foi capaz de recolher os resultados de temperatura e umidade do ar recolhidos ao longo de um determinado período de experimento. Esses resultados estão salvos no arquivo \"dados_dht11.txt\".\n"
   ]
  },
  {
   "cell_type": "markdown",
   "metadata": {},
   "source": [
    "Gustavo deseja utilizar os valores de temperatura para converte-los em Fahrenheit e Kelvin para os seus alunos de Física.\n",
    "\n",
    "### Fórmulas de Conversão\n",
    "\n",
    "Para converter a temperatura de Celsius para Fahrenheit, utiliza-se a fórmula:\n",
    "$$\n",
    "F = C \\times 1.8 + 32\n",
    "$$\n",
    "\n",
    "Para converter de Celsius para Kelvin, a fórmula é:\n",
    "$$\n",
    "K = C + 273.15\n",
    "$$\n",
    "\n",
    "Essas conversões ajudarão os alunos a entender como diferentes escalas de temperatura se correlacionam e são aplicadas em contextos científicos. Sem o Numpy, deveríamos fazer assim:\n"
   ]
  },
  {
   "cell_type": "code",
   "execution_count": 8,
   "metadata": {},
   "outputs": [],
   "source": [
    "# Extração dos Dados do Arquivo .txt\n",
    "data_path = \"../IoT/DadosClima/dados_dht11.txt\"\n",
    "datas_horarios = []\n",
    "temperaturas_celsius = []\n",
    "umidades = []\n",
    "\n",
    "with open(data_path, \"r\") as arquivo:\n",
    "    for linha in arquivo:\n",
    "        partes = linha.strip().split(' - ')\n",
    "        data_hora = datetime.strptime(partes[0], '%Y-%m-%d %H:%M:%S')\n",
    "        temperatura = int(partes[1].split('Temperature: ')[1].split(',')[0])\n",
    "        umidade = int(partes[1].split('Humidity: ')[1])\n",
    "        datas_horarios.append(data_hora)\n",
    "        temperaturas_celsius.append(temperatura)\n",
    "        umidades.append(umidade)"
   ]
  },
  {
   "cell_type": "code",
   "execution_count": 12,
   "metadata": {},
   "outputs": [
    {
     "name": "stdout",
     "output_type": "stream",
     "text": [
      "Datas e Horários: [datetime.datetime(2024, 9, 13, 17, 27, 40), datetime.datetime(2024, 9, 13, 17, 37, 42), datetime.datetime(2024, 9, 13, 17, 47, 44), datetime.datetime(2024, 9, 13, 17, 57, 46), datetime.datetime(2024, 9, 13, 18, 7, 48), datetime.datetime(2024, 9, 13, 18, 17, 50), datetime.datetime(2024, 9, 13, 18, 27, 52), datetime.datetime(2024, 9, 13, 18, 37, 54), datetime.datetime(2024, 9, 13, 18, 47, 56), datetime.datetime(2024, 9, 13, 18, 57, 58), datetime.datetime(2024, 9, 13, 19, 8), datetime.datetime(2024, 9, 13, 19, 18, 2), datetime.datetime(2024, 9, 13, 19, 28, 4), datetime.datetime(2024, 9, 13, 19, 38, 6), datetime.datetime(2024, 9, 13, 19, 48, 8), datetime.datetime(2024, 9, 13, 19, 58, 10), datetime.datetime(2024, 9, 13, 20, 8, 12), datetime.datetime(2024, 9, 13, 20, 18, 14), datetime.datetime(2024, 9, 13, 20, 28, 16), datetime.datetime(2024, 9, 13, 20, 38, 18), datetime.datetime(2024, 9, 13, 20, 48, 20), datetime.datetime(2024, 9, 13, 20, 58, 22), datetime.datetime(2024, 9, 13, 21, 8, 24), datetime.datetime(2024, 9, 13, 21, 18, 26), datetime.datetime(2024, 9, 13, 21, 28, 28), datetime.datetime(2024, 9, 13, 21, 38, 30), datetime.datetime(2024, 9, 13, 21, 48, 33), datetime.datetime(2024, 9, 13, 21, 58, 35), datetime.datetime(2024, 9, 13, 22, 8, 37), datetime.datetime(2024, 9, 13, 22, 18, 39), datetime.datetime(2024, 9, 13, 22, 28, 41), datetime.datetime(2024, 9, 13, 22, 38, 43), datetime.datetime(2024, 9, 13, 22, 48, 45), datetime.datetime(2024, 9, 13, 22, 58, 47), datetime.datetime(2024, 9, 13, 23, 8, 49), datetime.datetime(2024, 9, 13, 23, 18, 51), datetime.datetime(2024, 9, 13, 23, 28, 53), datetime.datetime(2024, 9, 13, 23, 38, 55), datetime.datetime(2024, 9, 13, 23, 48, 57), datetime.datetime(2024, 9, 13, 23, 58, 59), datetime.datetime(2024, 9, 14, 0, 9, 1), datetime.datetime(2024, 9, 14, 0, 19, 3), datetime.datetime(2024, 9, 14, 0, 29, 5), datetime.datetime(2024, 9, 14, 0, 39, 7), datetime.datetime(2024, 9, 14, 0, 49, 9), datetime.datetime(2024, 9, 14, 0, 59, 11), datetime.datetime(2024, 9, 14, 1, 9, 13), datetime.datetime(2024, 9, 14, 1, 19, 15), datetime.datetime(2024, 9, 14, 1, 29, 17), datetime.datetime(2024, 9, 14, 1, 39, 19), datetime.datetime(2024, 9, 14, 1, 49, 21), datetime.datetime(2024, 9, 14, 1, 59, 23), datetime.datetime(2024, 9, 14, 2, 9, 25), datetime.datetime(2024, 9, 14, 2, 19, 28), datetime.datetime(2024, 9, 14, 2, 29, 30), datetime.datetime(2024, 9, 14, 2, 39, 32), datetime.datetime(2024, 9, 14, 2, 49, 34), datetime.datetime(2024, 9, 14, 2, 59, 36), datetime.datetime(2024, 9, 14, 3, 9, 38), datetime.datetime(2024, 9, 14, 3, 19, 40), datetime.datetime(2024, 9, 14, 3, 29, 42), datetime.datetime(2024, 9, 14, 3, 39, 44), datetime.datetime(2024, 9, 14, 3, 49, 46), datetime.datetime(2024, 9, 14, 3, 59, 48), datetime.datetime(2024, 9, 14, 4, 9, 50), datetime.datetime(2024, 9, 14, 4, 19, 52), datetime.datetime(2024, 9, 14, 4, 29, 54), datetime.datetime(2024, 9, 14, 4, 39, 56), datetime.datetime(2024, 9, 14, 4, 49, 58), datetime.datetime(2024, 9, 14, 5, 0), datetime.datetime(2024, 9, 14, 5, 10, 2), datetime.datetime(2024, 9, 14, 5, 20, 4), datetime.datetime(2024, 9, 14, 5, 30, 6), datetime.datetime(2024, 9, 14, 5, 40, 8), datetime.datetime(2024, 9, 14, 5, 50, 10), datetime.datetime(2024, 9, 14, 6, 0, 12), datetime.datetime(2024, 9, 14, 6, 10, 14), datetime.datetime(2024, 9, 14, 6, 20, 16), datetime.datetime(2024, 9, 14, 6, 30, 18), datetime.datetime(2024, 9, 14, 6, 40, 20), datetime.datetime(2024, 9, 14, 6, 50, 22), datetime.datetime(2024, 9, 14, 7, 0, 24), datetime.datetime(2024, 9, 14, 7, 10, 26), datetime.datetime(2024, 9, 14, 7, 20, 28), datetime.datetime(2024, 9, 14, 7, 30, 30), datetime.datetime(2024, 9, 14, 7, 40, 32), datetime.datetime(2024, 9, 14, 7, 50, 34), datetime.datetime(2024, 9, 14, 8, 0, 36), datetime.datetime(2024, 9, 14, 8, 10, 38), datetime.datetime(2024, 9, 14, 8, 20, 40), datetime.datetime(2024, 9, 14, 8, 30, 42), datetime.datetime(2024, 9, 14, 8, 40, 44), datetime.datetime(2024, 9, 14, 8, 50, 46), datetime.datetime(2024, 9, 14, 9, 0, 48), datetime.datetime(2024, 9, 14, 9, 10, 50), datetime.datetime(2024, 9, 14, 9, 20, 52), datetime.datetime(2024, 9, 14, 9, 30, 54), datetime.datetime(2024, 9, 14, 9, 40, 56), datetime.datetime(2024, 9, 14, 9, 50, 58), datetime.datetime(2024, 9, 14, 10, 1), datetime.datetime(2024, 9, 14, 10, 11, 2), datetime.datetime(2024, 9, 14, 10, 21, 4), datetime.datetime(2024, 9, 14, 10, 31, 7), datetime.datetime(2024, 9, 14, 10, 41, 9), datetime.datetime(2024, 9, 14, 10, 51, 11), datetime.datetime(2024, 9, 14, 11, 1, 13), datetime.datetime(2024, 9, 14, 11, 11, 15), datetime.datetime(2024, 9, 14, 11, 21, 17), datetime.datetime(2024, 9, 14, 11, 31, 19), datetime.datetime(2024, 9, 14, 11, 41, 21), datetime.datetime(2024, 9, 14, 11, 51, 23), datetime.datetime(2024, 9, 14, 12, 1, 25), datetime.datetime(2024, 9, 14, 12, 11, 27), datetime.datetime(2024, 9, 14, 12, 21, 29), datetime.datetime(2024, 9, 14, 12, 31, 31), datetime.datetime(2024, 9, 14, 12, 41, 33), datetime.datetime(2024, 9, 14, 12, 51, 35), datetime.datetime(2024, 9, 14, 13, 1, 37), datetime.datetime(2024, 9, 14, 13, 11, 39), datetime.datetime(2024, 9, 14, 13, 21, 41), datetime.datetime(2024, 9, 14, 13, 31, 43), datetime.datetime(2024, 9, 14, 13, 41, 45), datetime.datetime(2024, 9, 14, 13, 51, 47), datetime.datetime(2024, 9, 14, 14, 1, 49), datetime.datetime(2024, 9, 14, 14, 11, 51), datetime.datetime(2024, 9, 14, 14, 21, 53), datetime.datetime(2024, 9, 14, 14, 31, 55), datetime.datetime(2024, 9, 14, 14, 41, 57), datetime.datetime(2024, 9, 14, 14, 51, 59), datetime.datetime(2024, 9, 14, 15, 2, 1), datetime.datetime(2024, 9, 14, 15, 12, 3), datetime.datetime(2024, 9, 14, 15, 22, 5), datetime.datetime(2024, 9, 14, 15, 32, 7), datetime.datetime(2024, 9, 14, 15, 42, 9), datetime.datetime(2024, 9, 14, 15, 52, 11), datetime.datetime(2024, 9, 14, 16, 2, 13), datetime.datetime(2024, 9, 14, 16, 12, 15), datetime.datetime(2024, 9, 14, 16, 22, 17), datetime.datetime(2024, 9, 14, 16, 32, 19), datetime.datetime(2024, 9, 14, 16, 42, 21), datetime.datetime(2024, 9, 14, 16, 52, 23), datetime.datetime(2024, 9, 14, 17, 2, 25), datetime.datetime(2024, 9, 14, 17, 12, 27), datetime.datetime(2024, 9, 14, 17, 22, 29), datetime.datetime(2024, 9, 14, 17, 32, 31), datetime.datetime(2024, 9, 14, 17, 42, 33), datetime.datetime(2024, 9, 14, 17, 52, 35), datetime.datetime(2024, 9, 14, 18, 2, 37), datetime.datetime(2024, 9, 14, 18, 12, 39), datetime.datetime(2024, 9, 14, 18, 22, 41), datetime.datetime(2024, 9, 14, 18, 32, 43), datetime.datetime(2024, 9, 14, 18, 42, 45), datetime.datetime(2024, 9, 14, 18, 52, 48), datetime.datetime(2024, 9, 14, 19, 2, 50), datetime.datetime(2024, 9, 14, 19, 12, 52), datetime.datetime(2024, 9, 14, 19, 22, 54), datetime.datetime(2024, 9, 14, 19, 32, 56), datetime.datetime(2024, 9, 14, 19, 42, 58), datetime.datetime(2024, 9, 14, 19, 53), datetime.datetime(2024, 9, 14, 20, 3, 2), datetime.datetime(2024, 9, 14, 20, 13, 4), datetime.datetime(2024, 9, 14, 20, 23, 6), datetime.datetime(2024, 9, 14, 20, 33, 8), datetime.datetime(2024, 9, 14, 20, 43, 10), datetime.datetime(2024, 9, 14, 20, 53, 12), datetime.datetime(2024, 9, 14, 21, 3, 14), datetime.datetime(2024, 9, 14, 21, 13, 16), datetime.datetime(2024, 9, 14, 21, 23, 18), datetime.datetime(2024, 9, 14, 21, 33, 20), datetime.datetime(2024, 9, 14, 21, 43, 22), datetime.datetime(2024, 9, 14, 21, 53, 24), datetime.datetime(2024, 9, 14, 22, 3, 26), datetime.datetime(2024, 9, 14, 22, 13, 28), datetime.datetime(2024, 9, 14, 22, 23, 30), datetime.datetime(2024, 9, 14, 22, 33, 32), datetime.datetime(2024, 9, 14, 22, 43, 34), datetime.datetime(2024, 9, 14, 22, 53, 36), datetime.datetime(2024, 9, 14, 23, 3, 38), datetime.datetime(2024, 9, 14, 23, 13, 40), datetime.datetime(2024, 9, 14, 23, 23, 42), datetime.datetime(2024, 9, 14, 23, 33, 44), datetime.datetime(2024, 9, 14, 23, 43, 46), datetime.datetime(2024, 9, 14, 23, 53, 48), datetime.datetime(2024, 9, 15, 0, 3, 50), datetime.datetime(2024, 9, 15, 0, 13, 52), datetime.datetime(2024, 9, 15, 0, 23, 54), datetime.datetime(2024, 9, 15, 0, 33, 56), datetime.datetime(2024, 9, 15, 0, 43, 58), datetime.datetime(2024, 9, 15, 0, 54), datetime.datetime(2024, 9, 15, 1, 4, 2), datetime.datetime(2024, 9, 15, 1, 14, 4), datetime.datetime(2024, 9, 15, 1, 24, 6), datetime.datetime(2024, 9, 15, 1, 34, 8), datetime.datetime(2024, 9, 15, 1, 44, 10), datetime.datetime(2024, 9, 15, 1, 54, 12)]\n",
      "Temperaturas: [28, 28, 28, 28, 27, 27, 27, 27, 27, 27, 27, 27, 27, 27, 27, 27, 27, 27, 27, 27, 27, 27, 27, 27, 27, 27, 27, 27, 27, 27, 27, 27, 27, 27, 27, 27, 27, 27, 27, 27, 27, 26, 26, 26, 26, 26, 26, 26, 26, 26, 26, 26, 26, 26, 26, 26, 26, 26, 26, 26, 26, 26, 26, 26, 26, 25, 25, 25, 25, 25, 25, 25, 25, 25, 25, 25, 25, 25, 25, 25, 25, 25, 25, 25, 25, 25, 25, 25, 25, 24, 24, 24, 24, 24, 24, 25, 24, 24, 24, 25, 25, 25, 24, 25, 25, 25, 25, 24, 24, 25, 25, 25, 25, 25, 25, 25, 25, 25, 25, 25, 25, 25, 25, 25, 25, 25, 25, 25, 25, 25, 25, 25, 25, 25, 26, 26, 26, 26, 26, 26, 26, 26, 26, 26, 26, 26, 26, 26, 26, 26, 25, 25, 25, 25, 25, 25, 25, 25, 25, 25, 25, 25, 25, 25, 25, 25, 25, 25, 25, 25, 25, 25, 25, 25, 25, 24, 24, 24, 24, 24, 24, 24, 24, 24, 24, 24, 24, 24, 24, 24, 24, 23, 23, 23, 23]\n",
      "umidades: [29, 29, 30, 31, 32, 33, 33, 34, 35, 34, 33, 34, 34, 34, 35, 35, 35, 35, 34, 33, 33, 33, 33, 34, 35, 35, 35, 35, 35, 36, 38, 39, 39, 41, 40, 41, 41, 41, 41, 41, 41, 41, 41, 41, 41, 42, 42, 42, 43, 43, 44, 43, 43, 44, 45, 46, 48, 49, 50, 50, 51, 51, 51, 51, 51, 51, 52, 52, 52, 52, 52, 52, 52, 52, 52, 52, 53, 53, 53, 53, 54, 54, 54, 54, 54, 53, 53, 53, 53, 53, 53, 53, 53, 54, 54, 53, 54, 54, 54, 54, 54, 54, 54, 54, 54, 55, 55, 55, 55, 56, 56, 55, 55, 55, 54, 54, 53, 53, 52, 52, 52, 52, 52, 53, 53, 53, 52, 53, 53, 53, 53, 54, 54, 54, 54, 54, 55, 55, 55, 55, 55, 55, 55, 55, 55, 54, 53, 52, 50, 50, 50, 50, 50, 51, 51, 52, 52, 52, 52, 53, 53, 54, 54, 55, 55, 55, 55, 56, 56, 56, 57, 58, 58, 58, 57, 57, 57, 57, 56, 55, 54, 54, 55, 55, 54, 55, 55, 55, 54, 54, 53, 52, 51, 50, 50]\n"
     ]
    }
   ],
   "source": [
    "print(f'Datas e Horários: {datas_horarios}')\n",
    "print(f'Temperaturas: {temperaturas_celsius}')\n",
    "print(f'umidades: {umidades}')"
   ]
  },
  {
   "cell_type": "code",
   "execution_count": 10,
   "metadata": {},
   "outputs": [],
   "source": [
    "# Convertendo Celsius para Fahrenheit\n",
    "temperaturas_fahrenheit = [(c * 1.8 + 32) for c in temperaturas_celsius]\n",
    "# Convertendo Celsius para Kelvin\n",
    "temperaturas_kelvin = [(c + 273.15) for c in temperaturas_celsius]"
   ]
  },
  {
   "cell_type": "code",
   "execution_count": 13,
   "metadata": {},
   "outputs": [
    {
     "name": "stdout",
     "output_type": "stream",
     "text": [
      "Temperaturas em Celsius: [28, 28, 28, 28, 27, 27, 27, 27, 27, 27, 27, 27, 27, 27, 27, 27, 27, 27, 27, 27, 27, 27, 27, 27, 27, 27, 27, 27, 27, 27, 27, 27, 27, 27, 27, 27, 27, 27, 27, 27, 27, 26, 26, 26, 26, 26, 26, 26, 26, 26, 26, 26, 26, 26, 26, 26, 26, 26, 26, 26, 26, 26, 26, 26, 26, 25, 25, 25, 25, 25, 25, 25, 25, 25, 25, 25, 25, 25, 25, 25, 25, 25, 25, 25, 25, 25, 25, 25, 25, 24, 24, 24, 24, 24, 24, 25, 24, 24, 24, 25, 25, 25, 24, 25, 25, 25, 25, 24, 24, 25, 25, 25, 25, 25, 25, 25, 25, 25, 25, 25, 25, 25, 25, 25, 25, 25, 25, 25, 25, 25, 25, 25, 25, 25, 26, 26, 26, 26, 26, 26, 26, 26, 26, 26, 26, 26, 26, 26, 26, 26, 25, 25, 25, 25, 25, 25, 25, 25, 25, 25, 25, 25, 25, 25, 25, 25, 25, 25, 25, 25, 25, 25, 25, 25, 25, 24, 24, 24, 24, 24, 24, 24, 24, 24, 24, 24, 24, 24, 24, 24, 24, 23, 23, 23, 23]\n",
      "Temperaturas em Fahrenheit: [82.4, 82.4, 82.4, 82.4, 80.6, 80.6, 80.6, 80.6, 80.6, 80.6, 80.6, 80.6, 80.6, 80.6, 80.6, 80.6, 80.6, 80.6, 80.6, 80.6, 80.6, 80.6, 80.6, 80.6, 80.6, 80.6, 80.6, 80.6, 80.6, 80.6, 80.6, 80.6, 80.6, 80.6, 80.6, 80.6, 80.6, 80.6, 80.6, 80.6, 80.6, 78.80000000000001, 78.80000000000001, 78.80000000000001, 78.80000000000001, 78.80000000000001, 78.80000000000001, 78.80000000000001, 78.80000000000001, 78.80000000000001, 78.80000000000001, 78.80000000000001, 78.80000000000001, 78.80000000000001, 78.80000000000001, 78.80000000000001, 78.80000000000001, 78.80000000000001, 78.80000000000001, 78.80000000000001, 78.80000000000001, 78.80000000000001, 78.80000000000001, 78.80000000000001, 78.80000000000001, 77.0, 77.0, 77.0, 77.0, 77.0, 77.0, 77.0, 77.0, 77.0, 77.0, 77.0, 77.0, 77.0, 77.0, 77.0, 77.0, 77.0, 77.0, 77.0, 77.0, 77.0, 77.0, 77.0, 77.0, 75.2, 75.2, 75.2, 75.2, 75.2, 75.2, 77.0, 75.2, 75.2, 75.2, 77.0, 77.0, 77.0, 75.2, 77.0, 77.0, 77.0, 77.0, 75.2, 75.2, 77.0, 77.0, 77.0, 77.0, 77.0, 77.0, 77.0, 77.0, 77.0, 77.0, 77.0, 77.0, 77.0, 77.0, 77.0, 77.0, 77.0, 77.0, 77.0, 77.0, 77.0, 77.0, 77.0, 77.0, 77.0, 78.80000000000001, 78.80000000000001, 78.80000000000001, 78.80000000000001, 78.80000000000001, 78.80000000000001, 78.80000000000001, 78.80000000000001, 78.80000000000001, 78.80000000000001, 78.80000000000001, 78.80000000000001, 78.80000000000001, 78.80000000000001, 78.80000000000001, 78.80000000000001, 77.0, 77.0, 77.0, 77.0, 77.0, 77.0, 77.0, 77.0, 77.0, 77.0, 77.0, 77.0, 77.0, 77.0, 77.0, 77.0, 77.0, 77.0, 77.0, 77.0, 77.0, 77.0, 77.0, 77.0, 77.0, 75.2, 75.2, 75.2, 75.2, 75.2, 75.2, 75.2, 75.2, 75.2, 75.2, 75.2, 75.2, 75.2, 75.2, 75.2, 75.2, 73.4, 73.4, 73.4, 73.4]\n",
      "Temperaturas em Kelvin: [301.15, 301.15, 301.15, 301.15, 300.15, 300.15, 300.15, 300.15, 300.15, 300.15, 300.15, 300.15, 300.15, 300.15, 300.15, 300.15, 300.15, 300.15, 300.15, 300.15, 300.15, 300.15, 300.15, 300.15, 300.15, 300.15, 300.15, 300.15, 300.15, 300.15, 300.15, 300.15, 300.15, 300.15, 300.15, 300.15, 300.15, 300.15, 300.15, 300.15, 300.15, 299.15, 299.15, 299.15, 299.15, 299.15, 299.15, 299.15, 299.15, 299.15, 299.15, 299.15, 299.15, 299.15, 299.15, 299.15, 299.15, 299.15, 299.15, 299.15, 299.15, 299.15, 299.15, 299.15, 299.15, 298.15, 298.15, 298.15, 298.15, 298.15, 298.15, 298.15, 298.15, 298.15, 298.15, 298.15, 298.15, 298.15, 298.15, 298.15, 298.15, 298.15, 298.15, 298.15, 298.15, 298.15, 298.15, 298.15, 298.15, 297.15, 297.15, 297.15, 297.15, 297.15, 297.15, 298.15, 297.15, 297.15, 297.15, 298.15, 298.15, 298.15, 297.15, 298.15, 298.15, 298.15, 298.15, 297.15, 297.15, 298.15, 298.15, 298.15, 298.15, 298.15, 298.15, 298.15, 298.15, 298.15, 298.15, 298.15, 298.15, 298.15, 298.15, 298.15, 298.15, 298.15, 298.15, 298.15, 298.15, 298.15, 298.15, 298.15, 298.15, 298.15, 299.15, 299.15, 299.15, 299.15, 299.15, 299.15, 299.15, 299.15, 299.15, 299.15, 299.15, 299.15, 299.15, 299.15, 299.15, 299.15, 298.15, 298.15, 298.15, 298.15, 298.15, 298.15, 298.15, 298.15, 298.15, 298.15, 298.15, 298.15, 298.15, 298.15, 298.15, 298.15, 298.15, 298.15, 298.15, 298.15, 298.15, 298.15, 298.15, 298.15, 298.15, 297.15, 297.15, 297.15, 297.15, 297.15, 297.15, 297.15, 297.15, 297.15, 297.15, 297.15, 297.15, 297.15, 297.15, 297.15, 297.15, 296.15, 296.15, 296.15, 296.15]\n"
     ]
    }
   ],
   "source": [
    "print(f'Temperaturas em Celsius: {temperaturas_celsius}')\n",
    "print(f'Temperaturas em Fahrenheit: {temperaturas_fahrenheit}')\n",
    "print(f'Temperaturas em Kelvin: {temperaturas_kelvin}')"
   ]
  },
  {
   "cell_type": "markdown",
   "metadata": {},
   "source": [
    "Vamos criar esse mesmo exemplo com o Numpy"
   ]
  },
  {
   "cell_type": "code",
   "execution_count": 14,
   "metadata": {},
   "outputs": [],
   "source": [
    "temperaturas_celsius_numpy = np.array(temperaturas_celsius)"
   ]
  },
  {
   "cell_type": "code",
   "execution_count": 15,
   "metadata": {},
   "outputs": [],
   "source": [
    "# Convertendo Celsius para Fahrenheit\n",
    "temperaturas_fahrenheit_numpy = temperaturas_celsius_numpy * 1.8 + 32\n",
    "# Convertendo Celsius para Kelvin\n",
    "temperaturas_kelvin_numpy = temperaturas_celsius_numpy + 273.15"
   ]
  },
  {
   "cell_type": "code",
   "execution_count": 16,
   "metadata": {},
   "outputs": [
    {
     "name": "stdout",
     "output_type": "stream",
     "text": [
      "Temperaturas em Celsius: [28 28 28 28 27 27 27 27 27 27 27 27 27 27 27 27 27 27 27 27 27 27 27 27\n",
      " 27 27 27 27 27 27 27 27 27 27 27 27 27 27 27 27 27 26 26 26 26 26 26 26\n",
      " 26 26 26 26 26 26 26 26 26 26 26 26 26 26 26 26 26 25 25 25 25 25 25 25\n",
      " 25 25 25 25 25 25 25 25 25 25 25 25 25 25 25 25 25 24 24 24 24 24 24 25\n",
      " 24 24 24 25 25 25 24 25 25 25 25 24 24 25 25 25 25 25 25 25 25 25 25 25\n",
      " 25 25 25 25 25 25 25 25 25 25 25 25 25 25 26 26 26 26 26 26 26 26 26 26\n",
      " 26 26 26 26 26 26 25 25 25 25 25 25 25 25 25 25 25 25 25 25 25 25 25 25\n",
      " 25 25 25 25 25 25 25 24 24 24 24 24 24 24 24 24 24 24 24 24 24 24 24 23\n",
      " 23 23 23]\n",
      "Temperaturas em Fahrenheit: [82.4 82.4 82.4 82.4 80.6 80.6 80.6 80.6 80.6 80.6 80.6 80.6 80.6 80.6\n",
      " 80.6 80.6 80.6 80.6 80.6 80.6 80.6 80.6 80.6 80.6 80.6 80.6 80.6 80.6\n",
      " 80.6 80.6 80.6 80.6 80.6 80.6 80.6 80.6 80.6 80.6 80.6 80.6 80.6 78.8\n",
      " 78.8 78.8 78.8 78.8 78.8 78.8 78.8 78.8 78.8 78.8 78.8 78.8 78.8 78.8\n",
      " 78.8 78.8 78.8 78.8 78.8 78.8 78.8 78.8 78.8 77.  77.  77.  77.  77.\n",
      " 77.  77.  77.  77.  77.  77.  77.  77.  77.  77.  77.  77.  77.  77.\n",
      " 77.  77.  77.  77.  77.  75.2 75.2 75.2 75.2 75.2 75.2 77.  75.2 75.2\n",
      " 75.2 77.  77.  77.  75.2 77.  77.  77.  77.  75.2 75.2 77.  77.  77.\n",
      " 77.  77.  77.  77.  77.  77.  77.  77.  77.  77.  77.  77.  77.  77.\n",
      " 77.  77.  77.  77.  77.  77.  77.  77.  78.8 78.8 78.8 78.8 78.8 78.8\n",
      " 78.8 78.8 78.8 78.8 78.8 78.8 78.8 78.8 78.8 78.8 77.  77.  77.  77.\n",
      " 77.  77.  77.  77.  77.  77.  77.  77.  77.  77.  77.  77.  77.  77.\n",
      " 77.  77.  77.  77.  77.  77.  77.  75.2 75.2 75.2 75.2 75.2 75.2 75.2\n",
      " 75.2 75.2 75.2 75.2 75.2 75.2 75.2 75.2 75.2 73.4 73.4 73.4 73.4]\n",
      "Temperaturas em Kelvin: [301.15 301.15 301.15 301.15 300.15 300.15 300.15 300.15 300.15 300.15\n",
      " 300.15 300.15 300.15 300.15 300.15 300.15 300.15 300.15 300.15 300.15\n",
      " 300.15 300.15 300.15 300.15 300.15 300.15 300.15 300.15 300.15 300.15\n",
      " 300.15 300.15 300.15 300.15 300.15 300.15 300.15 300.15 300.15 300.15\n",
      " 300.15 299.15 299.15 299.15 299.15 299.15 299.15 299.15 299.15 299.15\n",
      " 299.15 299.15 299.15 299.15 299.15 299.15 299.15 299.15 299.15 299.15\n",
      " 299.15 299.15 299.15 299.15 299.15 298.15 298.15 298.15 298.15 298.15\n",
      " 298.15 298.15 298.15 298.15 298.15 298.15 298.15 298.15 298.15 298.15\n",
      " 298.15 298.15 298.15 298.15 298.15 298.15 298.15 298.15 298.15 297.15\n",
      " 297.15 297.15 297.15 297.15 297.15 298.15 297.15 297.15 297.15 298.15\n",
      " 298.15 298.15 297.15 298.15 298.15 298.15 298.15 297.15 297.15 298.15\n",
      " 298.15 298.15 298.15 298.15 298.15 298.15 298.15 298.15 298.15 298.15\n",
      " 298.15 298.15 298.15 298.15 298.15 298.15 298.15 298.15 298.15 298.15\n",
      " 298.15 298.15 298.15 298.15 299.15 299.15 299.15 299.15 299.15 299.15\n",
      " 299.15 299.15 299.15 299.15 299.15 299.15 299.15 299.15 299.15 299.15\n",
      " 298.15 298.15 298.15 298.15 298.15 298.15 298.15 298.15 298.15 298.15\n",
      " 298.15 298.15 298.15 298.15 298.15 298.15 298.15 298.15 298.15 298.15\n",
      " 298.15 298.15 298.15 298.15 298.15 297.15 297.15 297.15 297.15 297.15\n",
      " 297.15 297.15 297.15 297.15 297.15 297.15 297.15 297.15 297.15 297.15\n",
      " 297.15 296.15 296.15 296.15 296.15]\n"
     ]
    }
   ],
   "source": [
    "print(f'Temperaturas em Celsius: {temperaturas_celsius_numpy}')\n",
    "print(f'Temperaturas em Fahrenheit: {temperaturas_fahrenheit_numpy}')\n",
    "print(f'Temperaturas em Kelvin: {temperaturas_kelvin_numpy}')"
   ]
  },
  {
   "cell_type": "markdown",
   "metadata": {},
   "source": [
    "## Considerações sobre o Uso de Listas e NumPy para Operações Matemáticas\n",
    "\n",
    "Quando executamos a conversão de temperaturas com a linha `temperaturas_fahrenheit = [(c * 1.8 + 32) for c in temperaturas_celsius]`, estamos processando os cálculos item a item usando uma compreensão de lista. Esta abordagem, apesar de direta e simples para conjuntos de dados pequenos, torna-se computacionalmente custosa e menos eficiente à medida que o volume de dados aumenta para milhões ou até bilhões de registros.\n",
    "\n",
    "### Vantagens do Uso de NumPy\n",
    "\n",
    "Ao utilizar o NumPy e realizar a operação `temperaturas_fahrenheit_numpy = temperaturas_celsius_numpy * 1.8 + 32`, indicamos a operação diretamente no array. A biblioteca NumPy, então, executa a operação de vetorização, que processa o array inteiro em um único passo de cálculo ao invés de iterar sobre cada elemento individualmente. Essa característica traz várias vantagens:\n",
    "\n",
    "- **Sintaxe Simplificada**: O código é mais limpo e mais fácil de escrever e entender, pois elimina a necessidade de loops explícitos ou compreensões de listas.\n",
    "- **Otimização de Desempenho**: NumPy é construído sobre implementações em C e Fortran, o que permite que operações sobre arrays sejam extremamente rápidas e eficientes. Isso é especialmente importante em aplicações científicas e análises de dados que exigem a manipulação de grandes volumes de dados.\n",
    "- **Consumo de Memória Reduzido**: Ao operar diretamente em arrays, NumPy utiliza uma estrutura de dados que consome menos memória do que listas nativas, especialmente quando os arrays são grandes."
   ]
  },
  {
   "cell_type": "markdown",
   "metadata": {},
   "source": [
    "# Entendendo os Dados\n",
    "Agora que já determinamos as transformações dos dados de forma vetorial, que tal entendermos melhor os dados? Vamos estabelecer:\n",
    "* Tamanho do Array de temperatura em Celsius\n",
    "* Valor máximo de temperatura\n",
    "* Valor mínimo de tempeartura\n",
    "* Média de tempeartura\n",
    "* Mediana de tempeartura\n",
    "* Variância de temperatura\n",
    "* Desvio padrão de temperatura"
   ]
  },
  {
   "cell_type": "code",
   "execution_count": 31,
   "metadata": {},
   "outputs": [
    {
     "name": "stdout",
     "output_type": "stream",
     "text": [
      "Nós medimos 195 dados ao longo da análise de temperatura local em Curitiba\n",
      "O valor de temperatura máxima atingida foi de 28\n",
      "O valor de temperatura mínima foi de 23\n",
      "Ao longo da análise, a média de tempeartura foi de 25.46\n",
      "Enquanto a mediana, foi de 25.00\n",
      "As medidas obtiveram uma variância de 1.16\n",
      "Por fim, o desvio padrão foi de 1.08\n"
     ]
    }
   ],
   "source": [
    "tamanho_array = np.size(temperaturas_celsius_numpy)\n",
    "temperatura_maxima = np.max(temperaturas_celsius_numpy)\n",
    "tempeartura_minima = np.min(temperaturas_celsius_numpy)\n",
    "temperatura_media = np.mean(temperaturas_celsius_numpy)\n",
    "temperatura_mediana = np.median(temperaturas_celsius_numpy)\n",
    "variancia_temperatura = np.var(temperaturas_celsius_numpy)\n",
    "desvio_padrao_temperatura = np.std(temperaturas_celsius_numpy)\n",
    "\n",
    "print(f'Nós medimos {tamanho_array} dados ao longo da análise de temperatura local em Curitiba')\n",
    "print(f'O valor de temperatura máxima atingida foi de {temperatura_maxima}')\n",
    "print(f'O valor de temperatura mínima foi de {tempeartura_minima}')\n",
    "print(f'Ao longo da análise, a média de tempeartura foi de {temperatura_media:.2f}')\n",
    "print(f'Enquanto a mediana, foi de {temperatura_mediana:.2f}')\n",
    "print(f'As medidas obtiveram uma variância de {variancia_temperatura:.2f}')\n",
    "print(f'Por fim, o desvio padrão foi de {desvio_padrao_temperatura:.2f}')\n"
   ]
  },
  {
   "cell_type": "markdown",
   "metadata": {},
   "source": [
    "Agora que já estabelecemos um entendimento estatístico preliminar sobre os dados recolhidos, vamos contar quantos desses dados estão acima da média."
   ]
  },
  {
   "cell_type": "code",
   "execution_count": 34,
   "metadata": {},
   "outputs": [
    {
     "name": "stdout",
     "output_type": "stream",
     "text": [
      "81 de 195 estão acima da média de 25.46\n"
     ]
    }
   ],
   "source": [
    "valores_acima_da_media = np.count_nonzero(temperaturas_celsius_numpy > temperatura_media)\n",
    "print(f'{valores_acima_da_media} de {tamanho_array} estão acima da média de {temperatura_media:.2f}')"
   ]
  },
  {
   "cell_type": "markdown",
   "metadata": {},
   "source": [
    "Por fim, vamos tentar analisar as correlações entre tempeturatura e umidade"
   ]
  },
  {
   "cell_type": "code",
   "execution_count": 36,
   "metadata": {},
   "outputs": [
    {
     "data": {
      "text/plain": [
       "array([[ 1.        , -0.82170324],\n",
       "       [-0.82170324,  1.        ]])"
      ]
     },
     "execution_count": 36,
     "metadata": {},
     "output_type": "execute_result"
    }
   ],
   "source": [
    "coeficientes_de_correlacao = np.corrcoef(temperaturas_celsius_numpy, np.array(umidades))\n",
    "coeficientes_de_correlacao"
   ]
  },
  {
   "cell_type": "markdown",
   "metadata": {},
   "source": [
    "A matriz de correlação que acabamos de calcular, é uma matriz quadrada que mostra a correlação entre cada par de variáveis em seu conjunto de dados. Cada valor na matriz varia entre -1 e 1:\n",
    "\n",
    "* 1.00 indica uma correlação positiva perfeita.\n",
    "* -1.00 indica uma correlação negativa perfeita.\n",
    "* 0.00 indica nenhuma correlação.\n",
    "\n",
    "## Diagonal Principal:\n",
    "\n",
    "* Os valores na diagonal principal (1 e 1) representam a correlação de cada variável consigo mesma (temperatura com temperatura e umidade com umidade), que é sempre 1.\n",
    "## Valores Fora da Diagonal:\n",
    "\n",
    "* O valor -0.8217 aparece duas vezes na matriz. Esse valor representa a correlação entre temperatura e umidade.\n",
    "\n",
    "O valor -0.8217 indica uma forte correlação negativa entre temperatura e umidade. Isso significa que, conforme a temperatura aumenta, a umidade tende a diminuir e vice-versa. A correlação de -0.8217 sugere que há uma relação inversa significativa entre essas duas variáveis no conjunto de dados. Quando a correlação é próxima de -1, podemos concluir que existe uma relação linear negativa forte entre as variáveis.\n",
    "\n",
    "# Implicações Práticas:\n",
    "Esse resultado pode ser interpretado no contexto meteorológico. Em muitos casos, conforme a temperatura aumenta, a umidade relativa do ar tende a diminuir porque o ar mais quente pode conter mais vapor de água antes de se saturar, resultando em uma umidade relativa menor. Portanto, a forte correlação negativa entre temperatura e umidade é consistente com o que é frequentemente observado em climas onde o aumento de temperatura está associado à redução da umidade relativa."
   ]
  },
  {
   "cell_type": "markdown",
   "metadata": {},
   "source": [
    "# Análise de Tendências e Previsão de Temperatura\n",
    "\n",
    "Dado o conjunto de dados de temperatura que já temos, podemos tentar calcular uma tendência e prever a temperatura para os próximos 30 minutos. Considerando que os dados foram registrados em intervalos de aproximadamente 10 minutos, isso significa que queremos prever as próximas três medições. Para prever a temperatura dos próximos 30 minutos, podemos utilizar a técnica de média móvel. A média móvel ajuda a suavizar as variações de curto prazo nos dados e a revelar uma tendência mais clara ao longo do tempo. Com os dados de temperatura registrados a cada 10 minutos, podemos calcular uma média móvel para identificar o padrão de variação e fazer uma estimativa dos valores futuros. Este método é especialmente útil para previsões de curto prazo, como as que estamos tentando realizar."
   ]
  },
  {
   "cell_type": "code",
   "execution_count": 37,
   "metadata": {},
   "outputs": [],
   "source": [
    "# Definindo a janela da média móvel (3 pontos = 30 minutos)\n",
    "tamanho_janela = 3\n",
    "\n",
    "media_movel = np.convolve(temperaturas_celsius_numpy, np.ones(tamanho_janela) / tamanho_janela, mode='valid')"
   ]
  },
  {
   "cell_type": "code",
   "execution_count": 44,
   "metadata": {},
   "outputs": [
    {
     "data": {
      "image/png": "[encoded data removed]",
      "text/plain": [
       "<Figure size 640x480 with 1 Axes>"
      ]
     },
     "metadata": {},
     "output_type": "display_data"
    }
   ],
   "source": [
    "# Visualizando os dados e a média móvel\n",
    "plt.plot(temperaturas_celsius_numpy, label='Temperatura Observada', marker='o')\n",
    "plt.plot(range(tamanho_janela - 1, len(temperaturas_celsius_numpy)), media_movel, label='Média Móvel (30 min)', linestyle='--', marker='x')\n",
    "plt.axhline(media_movel[-1], color='r', linestyle=':', label='Previsão Próximos 30 min')\n",
    "plt.xlabel('Tempo (em intervalos de 10 minutos)')\n",
    "plt.ylabel('Temperatura (°C)')\n",
    "plt.title('Previsão de Temperatura com Média Móvel')\n",
    "plt.legend()\n",
    "plt.show()"
   ]
  },
  {
   "cell_type": "code",
   "execution_count": null,
   "metadata": {},
   "outputs": [],
   "source": []
  }
 ],
 "metadata": {
  "kernelspec": {
   "display_name": ".venv",
   "language": "python",
   "name": "python3"
  },
  "language_info": {
   "codemirror_mode": {
    "name": "ipython",
    "version": 3
   },
   "file_extension": ".py",
   "mimetype": "text/x-python",
   "name": "python",
   "nbconvert_exporter": "python",
   "pygments_lexer": "ipython3",
   "version": "3.12.4"
  }
 },
 "nbformat": 4,
 "nbformat_minor": 2
}
