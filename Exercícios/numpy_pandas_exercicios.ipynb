{
 "cells": [
  {
   "cell_type": "markdown",
   "metadata": {},
   "source": [
    "# Guia Prático e Educativo de NumPy e Pandas\n",
    "\n",
    "## Propósito do Notebook\n",
    "Este notebook serve como um recurso educativo completo para aprender e aplicar as funcionalidades das bibliotecas NumPy e Pandas, além de funcionar como uma nota de memória prática para consulta rápida dos recursos e técnicas mais importantes dessas ferramentas essenciais em análise de dados e ciência de dados.\n",
    "\n",
    "## Objetivos\n",
    "- **Consolidação de Conhecimento**: Consolidar e aprofundar o entendimento sobre operações fundamentais e avançadas em NumPy e Pandas.\n",
    "- **Referência Rápida**: Servir como uma referência rápida para funções e métodos comuns, facilitando a revisão e o uso diário.\n",
    "- **Aplicações Práticas**: Demonstração de aplicação prática das técnicas em cenários reais como IoT, educação e ciências experimentais.\n",
    "- **Visualização e Análise Estatística**: Utilizar ferramentas de visualização e análise estatística para interpretar e apresentar dados de forma eficaz.\n",
    "\n",
    "## Estrutura do Notebook\n",
    "Este notebook está organizado em várias seções, cada uma dedicada a diferentes aspectos e funcionalidades de NumPy e Pandas:\n",
    "\n",
    "1. **Básicos de NumPy**:\n",
    "   - Criação e manipulação de arrays.\n",
    "   - Operações básicas: aritmética, lógica e funções agregadas.\n",
    "2. **Básicos de Pandas**:\n",
    "   - Criação e manipulação de DataFrames e Series.\n",
    "   - Importação e exportação de dados.\n",
    "3. **Visualização de Dados**:\n",
    "   - Introdução ao uso de Matplotlib e Seaborn para criar gráficos a partir de dados NumPy e Pandas.\n",
    "4. **Funcionalidades Avançadas**:\n",
    "   - Manipulação avançada de DataFrames.\n",
    "   - Técnicas de limpeza e preparação de dados.\n",
    "5. **Exercícios Aplicados**:\n",
    "   - Exercícios práticos que simulam cenários reais em áreas como IoT e análise educacional.\n",
    "6. **Recursos e Documentação**:\n",
    "   - Links para documentação oficial, tutoriais adicionais e recursos de aprendizagem.\n",
    "\n",
    "## Como Usar Este Notebook\n",
    "- **Como Referência**: Consulte as seções específicas para revisar conceitos ou comandos quando necessário.\n",
    "- **Como Guia de Aprendizado**: Siga os exercícios e explorações passo a passo para construir um entendimento profundo das capacidades das bibliotecas.\n",
    "- **Como Recurso para Projetos**: Utilize os exemplos e técnicas como base para seus próprios projetos de dados ou como inspiração para novas análises.\n",
    "\n",
    "Este guia é uma ferramenta dinâmica e será atualizado regularmente com novos exemplos, exercícios e melhores práticas para refletir avanços nas bibliotecas e nas necessidades dos usuários.\n"
   ]
  },
  {
   "cell_type": "code",
   "execution_count": 1,
   "metadata": {},
   "outputs": [
    {
     "name": "stdout",
     "output_type": "stream",
     "text": [
      "Looking in indexes: https://pypi.tuna.tsinghua.edu.cn/simple/\n",
      "Requirement already satisfied: numpy in g:\\meu drive\\documentos\\gustavo\\portifólio\\.venv\\lib\\site-packages (1.26.4)\n",
      "Requirement already satisfied: pandas in g:\\meu drive\\documentos\\gustavo\\portifólio\\.venv\\lib\\site-packages (2.2.2)\n",
      "Requirement already satisfied: python-dateutil>=2.8.2 in g:\\meu drive\\documentos\\gustavo\\portifólio\\.venv\\lib\\site-packages (from pandas) (2.9.0.post0)\n",
      "Requirement already satisfied: pytz>=2020.1 in g:\\meu drive\\documentos\\gustavo\\portifólio\\.venv\\lib\\site-packages (from pandas) (2024.1)\n",
      "Requirement already satisfied: tzdata>=2022.7 in g:\\meu drive\\documentos\\gustavo\\portifólio\\.venv\\lib\\site-packages (from pandas) (2024.1)\n",
      "Requirement already satisfied: six>=1.5 in g:\\meu drive\\documentos\\gustavo\\portifólio\\.venv\\lib\\site-packages (from python-dateutil>=2.8.2->pandas) (1.16.0)\n",
      "Note: you may need to restart the kernel to use updated packages.\n"
     ]
    }
   ],
   "source": [
    "%pip install numpy pandas"
   ]
  },
  {
   "cell_type": "code",
   "execution_count": 68,
   "metadata": {},
   "outputs": [],
   "source": [
    "import numpy as np\n",
    "import pandas as pd"
   ]
  },
  {
   "cell_type": "markdown",
   "metadata": {},
   "source": [
    "# Introdução ao NumPy\n",
    "\n",
    "A documentação básica do NumPy, que você pode conferir em [aqui](https://numpy.org/devdocs/user/quickstart.html), esclarece que o NumPy foi desenvolvido para trabalhar com matrizes n-dimensionais homogêneas, ou seja, com dados do mesmo tipo.\n",
    "\n",
    "Antes de entrar nos maiores detalhes sobre como essa biblioteca funciona, vamos aos tipos básicos de dados que o Python possui:"
   ]
  },
  {
   "cell_type": "code",
   "execution_count": 51,
   "metadata": {},
   "outputs": [],
   "source": [
    "# Números\n",
    "inteiro = 1             # Representam números inteiros, positivos ou negativos, sem parte fracionária.\n",
    "flutuante = 3.14        # Representam números reais e podem incluir uma parte decimal.\n",
    "complexo = 2 + 5j      # Usados para representar números complexos, são escritos como a + bj, onde a e b são floats.\n",
    "\n",
    "# Sequências\n",
    "nome = \"gustavo\"                        # Sequências de caracteres Unicode usadas para armazenar dados textuais.\n",
    "lista = [1, 2, 3, 4, \"texto\", True]     # Coleções ordenadas e mutáveis de itens que podem ser de tipos diferentes.\n",
    "tupla = (1, 2, 3, \"olá\", False)         # Coleções ordenadas e imutáveis de itens que podem ser de diferentes tipos.\n",
    "\n",
    "# Mapeamentos\n",
    "dicionario = {\"nome\": \"Gustavo\", \"idade\": 37, \"cidade\": \"Curitiba\"} # Estruturas de dados que armazenam pares de chave-valor, onde as chaves são únicas dentro de um dicionário.\n",
    "\n",
    "# Conjuntos\n",
    "conjunto = {1, 2, 3, 4, 5}                          # Coleções não ordenadas de elementos únicos. São mutáveis e úteis para operações de conjunto como união, interseção, etc.\n",
    "conjunto_imutavel = frozenset([1, 2, 3, 4, 5])      # Versão imutável de conjuntos, que pode ser usada como chave em dicionários.\n",
    "\n",
    "# Booleano\n",
    "a = True\n",
    "b = False   # Pode ter dois valores: True ou False, que são frequentemente o resultado de comparações ou condições.\n",
    "\n",
    "# None Type\n",
    "nada = None # Usado para representar a ausência de valor. É útil para indicar que uma variável não foi definida a um valor específico ainda.\n",
    "\n",
    "# Bytes e Arrays de Bytes\n",
    "dados_binarios = b'Algum texto em bytes'            # Sequência imutável de bytes, geralmente usados para dados binários.\n",
    "array_de_bytes = bytearray([50, 100, 76, 72, 90])   # Versão mutável de bytes."
   ]
  },
  {
   "cell_type": "markdown",
   "metadata": {},
   "source": [
    "Vamos explorar algumas das operações mais básicas que podemos realizar com os diferentes tipos de dados disponíveis em Python. Este exercício é fundamental para entender como manipular dados e executar operações elementares que formam a base de tarefas mais complexas em programação e análise de dados.\n",
    "\n",
    "Cada tipo de dado tem suas próprias características e métodos de manipulação associados. Vamos abordar:\n",
    "\n",
    "- **Números**: Operações aritméticas como adição, multiplicação e acesso a propriedades de números complexos.\n",
    "- **Sequências**: Indexação e slicing em strings, listas e tuplas.\n",
    "- **Mapeamentos**: Manipulação de dicionários, incluindo acesso e modificação de elementos.\n",
    "- **Conjuntos**: Adição e remoção de elementos, demonstrando as propriedades únicas de conjuntos em Python.\n",
    "- **Booleanos**: Demonstração de operações lógicas básicas.\n",
    "- **None Type**: Exploração do tipo `None`, usado frequentemente para representar a ausência de valor.\n",
    "\n",
    "As operações com estes tipos de dados são cruciais para qualquer tipo de programação em Python, especialmente em campos que dependem fortemente do processamento de dados, como ciência de dados, machine learning, desenvolvimento web e automação.\n",
    "\n",
    "Vamos começar explorando cada um destes tipos com exemplos práticos.\n"
   ]
  },
  {
   "cell_type": "code",
   "execution_count": 28,
   "metadata": {},
   "outputs": [
    {
     "name": "stdout",
     "output_type": "stream",
     "text": [
      "soma da variável inteiro com outro valor inteiro: 2\n",
      "subtração da variável inteiro com a variável flutuante: -2.14\n",
      "multiplicação de flutuantes: 4.867\n",
      "divisão do número inteiro: 0.5\n",
      "parte real do número complexo: 2.0\n",
      "parte imaginária do número complexo: 5.0\n"
     ]
    }
   ],
   "source": [
    "# Operações numéricas\n",
    "print(f'soma da variável inteiro com outro valor inteiro: {inteiro + 1}')\n",
    "print(f'subtração da variável inteiro com a variável flutuante: {inteiro - flutuante}')\n",
    "print(f'multiplicação de flutuantes: {flutuante * 1.55}')\n",
    "print(f'divisão do número inteiro: {inteiro / 2}')\n",
    "print(f'parte real do número complexo: {complexo.real}')\n",
    "print(f'parte imaginária do número complexo: {complexo.imag}')"
   ]
  },
  {
   "cell_type": "code",
   "execution_count": 50,
   "metadata": {},
   "outputs": [
    {
     "name": "stdout",
     "output_type": "stream",
     "text": [
      "acessando o primeiro caractere da string: g\n",
      "acessando o último item da lista: novo item\n",
      "acessando o segundo item da tupla: modificado\n",
      "cortar a string: ust\n",
      "cortar a lista: ['modificado', 3, 4]\n",
      "cortar a tupla: (1, 2, 3, 'olá')\n",
      "concatenar strings gustavo é um ótimo aluno\n",
      "repetir uma string x vezes: gustavogustavo\n",
      "concatenar listas [1, 'modificado', 3, 4, 'texto', True, 'novo item', 5, 6, 'outro texto', False]\n",
      "repetir listas [1, 'modificado', 3, 4, 'texto', True, 'novo item', 1, 'modificado', 3, 4, 'texto', True, 'novo item']\n",
      "lista original: [1, 'modificado', 3, 4, 'texto', True, 'novo item']\n",
      "modificando a lista: None\n",
      "modificando o segundo elemento da lista: [1, 'modificado', 3, 4, 'texto', True, 'novo item', 'novo item']\n",
      "capitalização da string: Gustavo\n",
      "todas as letras da string em maiúsculas: GUSTAVO\n",
      "contando \"a\" na string: 1\n"
     ]
    }
   ],
   "source": [
    "# Operações com sequências\n",
    "print(f'acessando o primeiro caractere da string: {nome[0]}')\n",
    "print(f'acessando o último item da lista: {lista[-1]}')\n",
    "print(f'acessando o segundo item da tupla: {lista[1]}')\n",
    "print(f'cortar a string: {nome[1:4]}')\n",
    "print(f'cortar a lista: {lista[1:4]}')\n",
    "print(f'cortar a tupla: {tupla[:4]}')\n",
    "print(f'concatenar strings {nome + \" é um ótimo aluno\"}')\n",
    "print(f'repetir uma string x vezes: {nome * 2}')\n",
    "print(f'concatenar listas {lista + [5, 6, \"outro texto\", False]}')\n",
    "print(f'repetir listas {lista * 2}')\n",
    "\n",
    "print(f'lista original: {lista}')\n",
    "print(f'modificando a lista: {lista.append(\"novo item\")}')\n",
    "lista[1] = \"modificado\"\n",
    "print(f'modificando o segundo elemento da lista: {lista}')\n",
    "\n",
    "print(f'capitalização da string: {nome.capitalize()}')\n",
    "print(f'todas as letras da string em maiúsculas: {nome.upper()}')\n",
    "print(f'contando \"a\" na string: {nome.count('a')}')"
   ]
  },
  {
   "cell_type": "code",
   "execution_count": 37,
   "metadata": {},
   "outputs": [
    {
     "name": "stdout",
     "output_type": "stream",
     "text": [
      "dicionário original: {'nome': 'Gustavo', 'idade': 37, 'cidade': 'Curitiba'}\n",
      "acessando o nome no dicionário: Gustavo\n",
      "idade: \"37\n",
      "dicionário com o país adicionado: {'nome': 'Gustavo', 'idade': 37, 'cidade': 'Curitiba', 'país': 'Brasil'}\n",
      "dicionário após remover idade: {'nome': 'Gustavo', 'cidade': 'Curitiba', 'país': 'Brasil'}\n",
      "acessando as chaves do dicionário: dict_keys(['nome', 'cidade', 'país'])\n",
      "acessando os valores do dicionário: dict_values(['Gustavo', 'Curitiba', 'Brasil'])\n"
     ]
    }
   ],
   "source": [
    "# Operações com mapeamentos\n",
    "print(f'dicionário original: {dicionario}')\n",
    "print(f'acessando o nome no dicionário: {dicionario[\"nome\"]}')\n",
    "print(f'idade: \"{dicionario.get(\"idade\")}')\n",
    "dicionario[\"país\"] = \"Brasil\"\n",
    "print(f'dicionário com o país adicionado: {dicionario}')\n",
    "del dicionario[\"idade\"]\n",
    "print(f'dicionário após remover idade: {dicionario}')\n",
    "print(f'acessando as chaves do dicionário: {dicionario.keys()}')\n",
    "print(f'acessando os valores do dicionário: {dicionario.values()}')"
   ]
  },
  {
   "cell_type": "code",
   "execution_count": 52,
   "metadata": {},
   "outputs": [
    {
     "name": "stdout",
     "output_type": "stream",
     "text": [
      "conjunto original: {1, 2, 3, 4, 5}\n",
      "conjunto após adição: {1, 2, 3, 4, 5, 6}\n",
      "conjunto após remoção: {1, 3, 4, 5, 6}\n",
      "união dos conjuntos: {1, 3, 4, 5, 6, 7, 8}\n",
      "interseção  dos conjuntos: {4, 5, 6}\n",
      "diferença dos conjuntos: {1, 3}\n",
      "conjunto é subconjunto de outro_conjunto? False\n",
      "conjunto é superconjunto de outro_conjunto? False\n"
     ]
    }
   ],
   "source": [
    "# Operações com conjuntos\n",
    "outro_conjunto = {4, 5, 6, 7, 8}\n",
    "print(f'conjunto original: {conjunto}')\n",
    "conjunto.add(6)\n",
    "print(f'conjunto após adição: {conjunto}')\n",
    "conjunto.remove(2)\n",
    "print(f'conjunto após remoção: {conjunto}')\n",
    "uniao = conjunto.union(outro_conjunto)\n",
    "print(f'união dos conjuntos: {uniao}')\n",
    "intersecao  = conjunto.intersection(outro_conjunto)\n",
    "print(f'interseção  dos conjuntos: {intersecao }')\n",
    "diferenca = conjunto.difference(outro_conjunto)\n",
    "print(f'diferença dos conjuntos: {diferenca}')\n",
    "print(f'conjunto é subconjunto de outro_conjunto? {conjunto.issubset(outro_conjunto)}')\n",
    "print(f'conjunto é superconjunto de outro_conjunto? {conjunto.issuperset(outro_conjunto)}')"
   ]
  },
  {
   "cell_type": "code",
   "execution_count": 53,
   "metadata": {},
   "outputs": [
    {
     "name": "stdout",
     "output_type": "stream",
     "text": [
      "operador AND: False\n",
      "operador OR: True\n",
      "operador NOT: False\n"
     ]
    }
   ],
   "source": [
    "# Operações booleanas\n",
    "print(f'operador AND: {True and False}')\n",
    "print(f'operador OR: {True or False}')\n",
    "print(f'operador NOT: {not True}')"
   ]
  },
  {
   "cell_type": "markdown",
   "metadata": {},
   "source": [
    "Apesar da diversidade de tipos de dados disponíveis em Python, como listas, tuplas e dicionários, nenhum deles oferece suporte nativo para operações matriciais avançadas. Esses tipos são excelentes para manipulação de dados genéricos, mas não são otimizados para cálculos numéricos intensivos, que são essenciais em campos como ciência de dados, engenharia e análise financeira.\n",
    "\n",
    "É aqui que o NumPy se destaca. Esta biblioteca foi projetada especificamente para suprir essa lacuna, introduzindo um tipo de dado array que suporta operações matriciais e numéricas eficientes e diretas. Com NumPy, os usuários ganham uma liberdade ímpar para executar uma variedade de operações matemáticas, que vão desde simples adições até complexas transformações lineares, sem a necessidade de recorrer a loops explícitos ou outras estruturas de código menos eficientes. NumPy não só facilita a escrita de código mais limpo e mais rápido, mas também amplia significativamente as capacidades do Python em aplicações científicas e técnicas.\n",
    "\n",
    "A seguir, exploraremos como o NumPy permite a criação e manipulação de matrizes, e como você pode utilizar essas capacidades para realizar cálculos numéricos complexos de forma eficiente.\n"
   ]
  },
  {
   "cell_type": "markdown",
   "metadata": {},
   "source": [
    "## Operações com Temperaturas\n",
    "\n",
    "Imagine a seguinte situação:\n",
    "Gustavo, utilizando seu Arduino Uno e o sensor DHT, coletou dados sobre a temperatura local em Curitiba ao longo do dia 07/09/2024. As medições foram realizadas de hora em hora, começando às 18 horas, com os seguintes resultados:\n",
    "\n",
    "- 18h: 30°C\n",
    "- 19h: 23°C\n",
    "- 20h: 22°C\n",
    "- 21h: 20°C\n",
    "- 22h: 19°C\n",
    "- 23h: 18°C\n",
    "- 00h: 17°C\n",
    "- 01h: 17°C\n",
    "- 02h: 17°C\n",
    "- 03h: 16°C\n",
    "- 04h: 16°C\n",
    "- 05h: 15°C\n",
    "- 06h: 14°C\n",
    "- 07h: 15°C\n",
    "- 08h: 17°C\n",
    "- 09h: 21°C\n",
    "- 10h: 26°C\n",
    "- 11h: 28°C\n",
    "- 12h: 29°C\n",
    "- 13h: 31°C\n",
    "- 14h: 32°C\n",
    "- 15h: 31°C\n",
    "- 16h: 30°C\n",
    "- 17h: 30°C\n",
    "\n",
    "Gustavo deseja converter e demonstrar esses valores em Fahrenheit e Kelvin para os seus alunos de Física.\n",
    "\n",
    "### Fórmulas de Conversão\n",
    "\n",
    "Para converter a temperatura de Celsius para Fahrenheit, utiliza-se a fórmula:\n",
    "$$\n",
    "F = C \\times 1.8 + 32\n",
    "$$\n",
    "\n",
    "Para converter de Celsius para Kelvin, a fórmula é:\n",
    "$$\n",
    "K = C + 273.15\n",
    "$$\n",
    "\n",
    "Essas conversões ajudarão os alunos a entender como diferentes escalas de temperatura se correlacionam e são aplicadas em contextos científicos. Sem o Numpy, deveríamos fazer assim:\n"
   ]
  },
  {
   "cell_type": "code",
   "execution_count": 76,
   "metadata": {},
   "outputs": [],
   "source": [
    "temperaturas_celsius = [\n",
    "    30,  # 18h\n",
    "    23,  # 19h\n",
    "    22,  # 20h\n",
    "    20,  # 21h\n",
    "    19,  # 22h\n",
    "    18,  # 23h\n",
    "    17,  # 00h\n",
    "    17,  # 01h\n",
    "    17,  # 02h\n",
    "    16,  # 03h\n",
    "    16,  # 04h\n",
    "    15,  # 05h\n",
    "    14,  # 06h\n",
    "    15,  # 07h\n",
    "    17,  # 08h\n",
    "    21,  # 09h\n",
    "    26,  # 10h\n",
    "    28,  # 11h\n",
    "    29,  # 12h\n",
    "    31,  # 13h\n",
    "    32,  # 14h\n",
    "    31,  # 15h\n",
    "    30,  # 16h\n",
    "    30   # 17h\n",
    "]"
   ]
  },
  {
   "cell_type": "code",
   "execution_count": 77,
   "metadata": {},
   "outputs": [],
   "source": [
    "# Convertendo Celsius para Fahrenheit\n",
    "temperaturas_fahrenheit = [(c * 1.8 + 32) for c in temperaturas_celsius]\n",
    "# Convertendo Celsius para Kelvin\n",
    "temperaturas_kelvin = [(c + 273.15) for c in temperaturas_celsius]"
   ]
  },
  {
   "cell_type": "code",
   "execution_count": 78,
   "metadata": {},
   "outputs": [
    {
     "name": "stdout",
     "output_type": "stream",
     "text": [
      "Temperaturas em Celsius: [30, 23, 22, 20, 19, 18, 17, 17, 17, 16, 16, 15, 14, 15, 17, 21, 26, 28, 29, 31, 32, 31, 30, 30]\n",
      "Temperaturas em Fahrenheit: [86.0, 73.4, 71.6, 68.0, 66.2, 64.4, 62.6, 62.6, 62.6, 60.8, 60.8, 59.0, 57.2, 59.0, 62.6, 69.80000000000001, 78.80000000000001, 82.4, 84.2, 87.80000000000001, 89.6, 87.80000000000001, 86.0, 86.0]\n",
      "Temperaturas em Kelvin: [303.15, 296.15, 295.15, 293.15, 292.15, 291.15, 290.15, 290.15, 290.15, 289.15, 289.15, 288.15, 287.15, 288.15, 290.15, 294.15, 299.15, 301.15, 302.15, 304.15, 305.15, 304.15, 303.15, 303.15]\n"
     ]
    }
   ],
   "source": [
    "print(f'Temperaturas em Celsius: {temperaturas_celsius}')\n",
    "print(f'Temperaturas em Fahrenheit: {temperaturas_fahrenheit}')\n",
    "print(f'Temperaturas em Kelvin: {temperaturas_kelvin}')"
   ]
  },
  {
   "cell_type": "markdown",
   "metadata": {},
   "source": [
    "Vamos criar esse mesmo exemplo com o Numpy"
   ]
  },
  {
   "cell_type": "code",
   "execution_count": 79,
   "metadata": {},
   "outputs": [],
   "source": [
    "temperaturas_celsius_numpy = np.array([\n",
    "    30,  # 18h\n",
    "    23,  # 19h\n",
    "    22,  # 20h\n",
    "    20,  # 21h\n",
    "    19,  # 22h\n",
    "    18,  # 23h\n",
    "    17,  # 00h\n",
    "    17,  # 01h\n",
    "    17,  # 02h\n",
    "    16,  # 03h\n",
    "    16,  # 04h\n",
    "    15,  # 05h\n",
    "    14,  # 06h\n",
    "    15,  # 07h\n",
    "    17,  # 08h\n",
    "    21,  # 09h\n",
    "    26,  # 10h\n",
    "    28,  # 11h\n",
    "    29,  # 12h\n",
    "    31,  # 13h\n",
    "    32,  # 14h\n",
    "    31,  # 15h\n",
    "    30,  # 16h\n",
    "    30   # 17h\n",
    "])"
   ]
  },
  {
   "cell_type": "code",
   "execution_count": 80,
   "metadata": {},
   "outputs": [],
   "source": [
    "# Convertendo Celsius para Fahrenheit\n",
    "temperaturas_fahrenheit_numpy = temperaturas_celsius_numpy * 1.8 + 32\n",
    "# Convertendo Celsius para Kelvin\n",
    "temperaturas_kelvin_numpy = temperaturas_celsius_numpy + 273.15"
   ]
  },
  {
   "cell_type": "code",
   "execution_count": 81,
   "metadata": {},
   "outputs": [
    {
     "name": "stdout",
     "output_type": "stream",
     "text": [
      "Temperaturas em Celsius: [30 23 22 20 19 18 17 17 17 16 16 15 14 15 17 21 26 28 29 31 32 31 30 30]\n",
      "Temperaturas em Fahrenheit: [86.  73.4 71.6 68.  66.2 64.4 62.6 62.6 62.6 60.8 60.8 59.  57.2 59.\n",
      " 62.6 69.8 78.8 82.4 84.2 87.8 89.6 87.8 86.  86. ]\n",
      "Temperaturas em Kelvin: [303.15 296.15 295.15 293.15 292.15 291.15 290.15 290.15 290.15 289.15\n",
      " 289.15 288.15 287.15 288.15 290.15 294.15 299.15 301.15 302.15 304.15\n",
      " 305.15 304.15 303.15 303.15]\n"
     ]
    }
   ],
   "source": [
    "print(f'Temperaturas em Celsius: {temperaturas_celsius_numpy}')\n",
    "print(f'Temperaturas em Fahrenheit: {temperaturas_fahrenheit_numpy}')\n",
    "print(f'Temperaturas em Kelvin: {temperaturas_kelvin_numpy}')"
   ]
  },
  {
   "cell_type": "markdown",
   "metadata": {},
   "source": [
    "## Considerações sobre o Uso de Listas e NumPy para Operações Matemáticas\n",
    "\n",
    "Quando executamos a conversão de temperaturas com a linha `temperaturas_fahrenheit = [(c * 1.8 + 32) for c in temperaturas_celsius]`, estamos processando os cálculos item a item usando uma compreensão de lista. Esta abordagem, apesar de direta e simples para conjuntos de dados pequenos, torna-se computacionalmente custosa e menos eficiente à medida que o volume de dados aumenta para milhões ou até bilhões de registros.\n",
    "\n",
    "### Vantagens do Uso de NumPy\n",
    "\n",
    "Ao utilizar o NumPy e realizar a operação `temperaturas_fahrenheit_numpy = temperaturas_celsius_numpy * 1.8 + 32`, indicamos a operação diretamente no array. A biblioteca NumPy, então, executa a operação de vetorização, que processa o array inteiro em um único passo de cálculo ao invés de iterar sobre cada elemento individualmente. Essa característica traz várias vantagens:\n",
    "\n",
    "- **Sintaxe Simplificada**: O código é mais limpo e mais fácil de escrever e entender, pois elimina a necessidade de loops explícitos ou compreensões de listas.\n",
    "- **Otimização de Desempenho**: NumPy é construído sobre implementações em C e Fortran, o que permite que operações sobre arrays sejam extremamente rápidas e eficientes. Isso é especialmente importante em aplicações científicas e análises de dados que exigem a manipulação de grandes volumes de dados.\n",
    "- **Consumo de Memória Reduzido**: Ao operar diretamente em arrays, NumPy utiliza uma estrutura de dados que consome menos memória do que listas nativas, especialmente quando os arrays são grandes."
   ]
  },
  {
   "cell_type": "code",
   "execution_count": null,
   "metadata": {},
   "outputs": [],
   "source": []
  }
 ],
 "metadata": {
  "kernelspec": {
   "display_name": ".venv",
   "language": "python",
   "name": "python3"
  },
  "language_info": {
   "codemirror_mode": {
    "name": "ipython",
    "version": 3
   },
   "file_extension": ".py",
   "mimetype": "text/x-python",
   "name": "python",
   "nbconvert_exporter": "python",
   "pygments_lexer": "ipython3",
   "version": "3.12.4"
  }
 },
 "nbformat": 4,
 "nbformat_minor": 2
}
